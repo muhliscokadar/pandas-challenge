{
 "cells": [
  {
   "cell_type": "code",
   "execution_count": 2,
   "metadata": {},
   "outputs": [],
   "source": [
    "# Dependencies and Setup\n",
    "import pandas as pd \n",
    "import numpy as np"
   ]
  },
  {
   "cell_type": "code",
   "execution_count": 31,
   "metadata": {},
   "outputs": [
    {
     "data": {
      "text/html": [
       "<div>\n",
       "<style scoped>\n",
       "    .dataframe tbody tr th:only-of-type {\n",
       "        vertical-align: middle;\n",
       "    }\n",
       "\n",
       "    .dataframe tbody tr th {\n",
       "        vertical-align: top;\n",
       "    }\n",
       "\n",
       "    .dataframe thead th {\n",
       "        text-align: right;\n",
       "    }\n",
       "</style>\n",
       "<table border=\"1\" class=\"dataframe\">\n",
       "  <thead>\n",
       "    <tr style=\"text-align: right;\">\n",
       "      <th></th>\n",
       "      <th>Purchase ID</th>\n",
       "      <th>SN</th>\n",
       "      <th>Age</th>\n",
       "      <th>Gender</th>\n",
       "      <th>Item ID</th>\n",
       "      <th>Item Name</th>\n",
       "      <th>Price</th>\n",
       "    </tr>\n",
       "  </thead>\n",
       "  <tbody>\n",
       "    <tr>\n",
       "      <th>0</th>\n",
       "      <td>0</td>\n",
       "      <td>Lisim78</td>\n",
       "      <td>20</td>\n",
       "      <td>Male</td>\n",
       "      <td>108</td>\n",
       "      <td>Extraction, Quickblade Of Trembling Hands</td>\n",
       "      <td>3.53</td>\n",
       "    </tr>\n",
       "    <tr>\n",
       "      <th>1</th>\n",
       "      <td>1</td>\n",
       "      <td>Lisovynya38</td>\n",
       "      <td>40</td>\n",
       "      <td>Male</td>\n",
       "      <td>143</td>\n",
       "      <td>Frenzied Scimitar</td>\n",
       "      <td>1.56</td>\n",
       "    </tr>\n",
       "    <tr>\n",
       "      <th>2</th>\n",
       "      <td>2</td>\n",
       "      <td>Ithergue48</td>\n",
       "      <td>24</td>\n",
       "      <td>Male</td>\n",
       "      <td>92</td>\n",
       "      <td>Final Critic</td>\n",
       "      <td>4.88</td>\n",
       "    </tr>\n",
       "    <tr>\n",
       "      <th>3</th>\n",
       "      <td>3</td>\n",
       "      <td>Chamassasya86</td>\n",
       "      <td>24</td>\n",
       "      <td>Male</td>\n",
       "      <td>100</td>\n",
       "      <td>Blindscythe</td>\n",
       "      <td>3.27</td>\n",
       "    </tr>\n",
       "    <tr>\n",
       "      <th>4</th>\n",
       "      <td>4</td>\n",
       "      <td>Iskosia90</td>\n",
       "      <td>23</td>\n",
       "      <td>Male</td>\n",
       "      <td>131</td>\n",
       "      <td>Fury</td>\n",
       "      <td>1.44</td>\n",
       "    </tr>\n",
       "  </tbody>\n",
       "</table>\n",
       "</div>"
      ],
      "text/plain": [
       "   Purchase ID             SN  Age Gender  Item ID  \\\n",
       "0            0        Lisim78   20   Male      108   \n",
       "1            1    Lisovynya38   40   Male      143   \n",
       "2            2     Ithergue48   24   Male       92   \n",
       "3            3  Chamassasya86   24   Male      100   \n",
       "4            4      Iskosia90   23   Male      131   \n",
       "\n",
       "                                   Item Name  Price  \n",
       "0  Extraction, Quickblade Of Trembling Hands   3.53  \n",
       "1                          Frenzied Scimitar   1.56  \n",
       "2                               Final Critic   4.88  \n",
       "3                                Blindscythe   3.27  \n",
       "4                                       Fury   1.44  "
      ]
     },
     "execution_count": 31,
     "metadata": {},
     "output_type": "execute_result"
    }
   ],
   "source": [
    "# file loading\n",
    "file = 'Resources/purchase_data.csv'\n",
    "# Read Purchasing File and store into Pandas data frame\n",
    "df = pd.read_csv(file)\n",
    "df.head()"
   ]
  },
  {
   "cell_type": "code",
   "execution_count": 4,
   "metadata": {},
   "outputs": [
    {
     "data": {
      "text/plain": [
       "Index(['Purchase ID', 'SN', 'Age', 'Gender', 'Item ID', 'Item Name', 'Price'], dtype='object')"
      ]
     },
     "execution_count": 4,
     "metadata": {},
     "output_type": "execute_result"
    }
   ],
   "source": [
    "df.columns"
   ]
  },
  {
   "cell_type": "markdown",
   "metadata": {},
   "source": [
    "# Player Count \n",
    "    "
   ]
  },
  {
   "cell_type": "markdown",
   "metadata": {},
   "source": [
    "* Display the total number of players\n"
   ]
  },
  {
   "cell_type": "code",
   "execution_count": 5,
   "metadata": {},
   "outputs": [
    {
     "data": {
      "text/html": [
       "<div>\n",
       "<style scoped>\n",
       "    .dataframe tbody tr th:only-of-type {\n",
       "        vertical-align: middle;\n",
       "    }\n",
       "\n",
       "    .dataframe tbody tr th {\n",
       "        vertical-align: top;\n",
       "    }\n",
       "\n",
       "    .dataframe thead th {\n",
       "        text-align: right;\n",
       "    }\n",
       "</style>\n",
       "<table border=\"1\" class=\"dataframe\">\n",
       "  <thead>\n",
       "    <tr style=\"text-align: right;\">\n",
       "      <th></th>\n",
       "      <th>Total Players</th>\n",
       "    </tr>\n",
       "  </thead>\n",
       "  <tbody>\n",
       "    <tr>\n",
       "      <th>0</th>\n",
       "      <td>576</td>\n",
       "    </tr>\n",
       "  </tbody>\n",
       "</table>\n",
       "</div>"
      ],
      "text/plain": [
       "   Total Players\n",
       "0            576"
      ]
     },
     "execution_count": 5,
     "metadata": {},
     "output_type": "execute_result"
    }
   ],
   "source": [
    "unique = df['SN'].unique()\n",
    "players = len(unique)\n",
    "df_players = pd.DataFrame({'Total Players': [players]})\n",
    "df_players"
   ]
  },
  {
   "cell_type": "markdown",
   "metadata": {},
   "source": [
    "# Purchasing Analysis (Total)"
   ]
  },
  {
   "cell_type": "markdown",
   "metadata": {},
   "source": [
    "* Run basic calculations to obtain number of unique items, average price, etc.\n",
    "\n",
    "\n",
    "* Create a summary data frame to hold the results\n",
    "\n",
    "\n",
    "* Optional: give the displayed data cleaner formatting\n",
    "\n",
    "\n",
    "* Display the summary data frame\n"
   ]
  },
  {
   "cell_type": "code",
   "execution_count": 6,
   "metadata": {},
   "outputs": [
    {
     "data": {
      "text/plain": [
       "183"
      ]
     },
     "execution_count": 6,
     "metadata": {},
     "output_type": "execute_result"
    }
   ],
   "source": [
    "# Number of Unique Items\n",
    "unique_items = df['Item ID'].unique()\n",
    "unique_items = len(unique_items)\n",
    "unique_items"
   ]
  },
  {
   "cell_type": "code",
   "execution_count": 7,
   "metadata": {},
   "outputs": [
    {
     "data": {
      "text/plain": [
       "3.05"
      ]
     },
     "execution_count": 7,
     "metadata": {},
     "output_type": "execute_result"
    }
   ],
   "source": [
    "# Average Purchase Price\n",
    "avg_price = round(df['Price'].mean(),2)\n",
    "avg_price"
   ]
  },
  {
   "cell_type": "code",
   "execution_count": 8,
   "metadata": {},
   "outputs": [
    {
     "data": {
      "text/plain": [
       "780"
      ]
     },
     "execution_count": 8,
     "metadata": {},
     "output_type": "execute_result"
    }
   ],
   "source": [
    "number_of_purchase = len(df)\n",
    "number_of_purchase"
   ]
  },
  {
   "cell_type": "code",
   "execution_count": 9,
   "metadata": {},
   "outputs": [
    {
     "data": {
      "text/plain": [
       "2379.77"
      ]
     },
     "execution_count": 9,
     "metadata": {},
     "output_type": "execute_result"
    }
   ],
   "source": [
    "Total_Revenue = round(df['Price'].sum(),2)\n",
    "Total_Revenue"
   ]
  },
  {
   "cell_type": "code",
   "execution_count": 10,
   "metadata": {
    "scrolled": false
   },
   "outputs": [
    {
     "data": {
      "text/html": [
       "<div>\n",
       "<style scoped>\n",
       "    .dataframe tbody tr th:only-of-type {\n",
       "        vertical-align: middle;\n",
       "    }\n",
       "\n",
       "    .dataframe tbody tr th {\n",
       "        vertical-align: top;\n",
       "    }\n",
       "\n",
       "    .dataframe thead th {\n",
       "        text-align: right;\n",
       "    }\n",
       "</style>\n",
       "<table border=\"1\" class=\"dataframe\">\n",
       "  <thead>\n",
       "    <tr style=\"text-align: right;\">\n",
       "      <th></th>\n",
       "      <th>Number of Unique Items</th>\n",
       "      <th>Average Price</th>\n",
       "      <th>Number of Purchases</th>\n",
       "      <th>Total Revenue</th>\n",
       "    </tr>\n",
       "  </thead>\n",
       "  <tbody>\n",
       "    <tr>\n",
       "      <th>0</th>\n",
       "      <td>183</td>\n",
       "      <td>$3.05</td>\n",
       "      <td>780</td>\n",
       "      <td>$2379.77</td>\n",
       "    </tr>\n",
       "  </tbody>\n",
       "</table>\n",
       "</div>"
      ],
      "text/plain": [
       "   Number of Unique Items Average Price  Number of Purchases Total Revenue\n",
       "0                     183         $3.05                  780      $2379.77"
      ]
     },
     "execution_count": 10,
     "metadata": {},
     "output_type": "execute_result"
    }
   ],
   "source": [
    "purchasing_analysis = pd.DataFrame({'Number of Unique Items': [unique_items],\n",
    "                       'Average Price':[avg_price],\n",
    "                      'Number of Purchases':[number_of_purchase],\n",
    "                       'Total Revenue':[Total_Revenue]\n",
    "                       })\n",
    "purchasing_analysis['Average Price']= '$' + purchasing_analysis['Average Price'].astype(str)\n",
    "purchasing_analysis['Total Revenue']= '$'+ purchasing_analysis['Total Revenue'].astype(str)\n",
    "\n",
    "purchasing_analysis\n",
    "                      "
   ]
  },
  {
   "cell_type": "markdown",
   "metadata": {},
   "source": [
    "# Gender Demographics"
   ]
  },
  {
   "cell_type": "markdown",
   "metadata": {},
   "source": [
    "* Percentage and Count of Male Players\n",
    "\n",
    "\n",
    "* Percentage and Count of Female Players\n",
    "\n",
    "\n",
    "* Percentage and Count of Other / Non-Disclosed"
   ]
  },
  {
   "cell_type": "code",
   "execution_count": 11,
   "metadata": {},
   "outputs": [
    {
     "data": {
      "text/html": [
       "<style  type=\"text/css\" >\n",
       "</style>  \n",
       "<table id=\"T_6ea0bfda_eadb_11e8_a531_34e6d70a4cbf\" > \n",
       "<thead>    <tr> \n",
       "        <th class=\"blank level0\" ></th> \n",
       "        <th class=\"col_heading level0 col0\" >Total Count</th> \n",
       "        <th class=\"col_heading level0 col1\" >Percentage of Players</th> \n",
       "    </tr>    <tr> \n",
       "        <th class=\"index_name level0\" >Gender</th> \n",
       "        <th class=\"blank\" ></th> \n",
       "        <th class=\"blank\" ></th> \n",
       "    </tr></thead> \n",
       "<tbody>    <tr> \n",
       "        <th id=\"T_6ea0bfda_eadb_11e8_a531_34e6d70a4cbflevel0_row0\" class=\"row_heading level0 row0\" >Male</th> \n",
       "        <td id=\"T_6ea0bfda_eadb_11e8_a531_34e6d70a4cbfrow0_col0\" class=\"data row0 col0\" >484</td> \n",
       "        <td id=\"T_6ea0bfda_eadb_11e8_a531_34e6d70a4cbfrow0_col1\" class=\"data row0 col1\" >84.03%</td> \n",
       "    </tr>    <tr> \n",
       "        <th id=\"T_6ea0bfda_eadb_11e8_a531_34e6d70a4cbflevel0_row1\" class=\"row_heading level0 row1\" >Female</th> \n",
       "        <td id=\"T_6ea0bfda_eadb_11e8_a531_34e6d70a4cbfrow1_col0\" class=\"data row1 col0\" >81</td> \n",
       "        <td id=\"T_6ea0bfda_eadb_11e8_a531_34e6d70a4cbfrow1_col1\" class=\"data row1 col1\" >14.06%</td> \n",
       "    </tr>    <tr> \n",
       "        <th id=\"T_6ea0bfda_eadb_11e8_a531_34e6d70a4cbflevel0_row2\" class=\"row_heading level0 row2\" >Other / Non-Disclosed</th> \n",
       "        <td id=\"T_6ea0bfda_eadb_11e8_a531_34e6d70a4cbfrow2_col0\" class=\"data row2 col0\" >11</td> \n",
       "        <td id=\"T_6ea0bfda_eadb_11e8_a531_34e6d70a4cbfrow2_col1\" class=\"data row2 col1\" >1.91%</td> \n",
       "    </tr></tbody> \n",
       "</table> "
      ],
      "text/plain": [
       "<pandas.io.formats.style.Styler at 0x29ef54286d8>"
      ]
     },
     "execution_count": 11,
     "metadata": {},
     "output_type": "execute_result"
    }
   ],
   "source": [
    "gender_total = df[\"SN\"].nunique()\n",
    "male_count = df[df[\"Gender\"] == \"Male\"][\"SN\"].nunique()\n",
    "female_count = df[df[\"Gender\"] == \"Female\"][\"SN\"].nunique()\n",
    "other_count = gender_total - male_count - female_count\n",
    "male_perct = (male_count/gender_total*100)\n",
    "female_perct = (female_count/gender_total*100)\n",
    "other_perct = (other_count/gender_total*100)\n",
    "\n",
    "gender_demo = pd.DataFrame({\"Gender\": [\"Male\", \"Female\", \"Other / Non-Disclosed\"], \n",
    "                            \"Total Count\":[male_count,female_count,other_count],\n",
    "                           \"Percentage of Players\": [male_perct,female_perct,other_perct]}, \n",
    "                           columns=[\"Gender\",\"Total Count\", \"Percentage of Players\"])\n",
    "\n",
    "gender_demo = gender_demo.set_index(\"Gender\")\n",
    "gender_demo.style.format({\"Percentage of Players\":\"{:.2f}%\"})"
   ]
  },
  {
   "cell_type": "markdown",
   "metadata": {},
   "source": [
    "## Purchasing Analysis (Gender)"
   ]
  },
  {
   "cell_type": "markdown",
   "metadata": {},
   "source": [
    "* Run basic calculations to obtain purchase count, avg. purchase price, avg. purchase total per person etc. by gender\n",
    "\n",
    "\n",
    "\n",
    "\n",
    "* Create a summary data frame to hold the results\n",
    "\n",
    "\n",
    "* Optional: give the displayed data cleaner formatting\n",
    "\n",
    "\n",
    "* Display the summary data frame"
   ]
  },
  {
   "cell_type": "code",
   "execution_count": 63,
   "metadata": {},
   "outputs": [
    {
     "data": {
      "text/html": [
       "<style  type=\"text/css\" >\n",
       "</style>  \n",
       "<table id=\"T_b0f09a2c_eb87_11e8_8006_34e6d70a4cbf\" > \n",
       "<thead>    <tr> \n",
       "        <th class=\"blank level0\" ></th> \n",
       "        <th class=\"col_heading level0 col0\" >Purchase Count</th> \n",
       "        <th class=\"col_heading level0 col1\" >Average Purchase Price</th> \n",
       "        <th class=\"col_heading level0 col2\" >Total Purchase Value</th> \n",
       "        <th class=\"col_heading level0 col3\" >Avg Total Purchase per Person</th> \n",
       "    </tr>    <tr> \n",
       "        <th class=\"index_name level0\" >Gender</th> \n",
       "        <th class=\"blank\" ></th> \n",
       "        <th class=\"blank\" ></th> \n",
       "        <th class=\"blank\" ></th> \n",
       "        <th class=\"blank\" ></th> \n",
       "    </tr></thead> \n",
       "<tbody>    <tr> \n",
       "        <th id=\"T_b0f09a2c_eb87_11e8_8006_34e6d70a4cbflevel0_row0\" class=\"row_heading level0 row0\" >Male</th> \n",
       "        <td id=\"T_b0f09a2c_eb87_11e8_8006_34e6d70a4cbfrow0_col0\" class=\"data row0 col0\" >652</td> \n",
       "        <td id=\"T_b0f09a2c_eb87_11e8_8006_34e6d70a4cbfrow0_col1\" class=\"data row0 col1\" >$3.02</td> \n",
       "        <td id=\"T_b0f09a2c_eb87_11e8_8006_34e6d70a4cbfrow0_col2\" class=\"data row0 col2\" >$1967.64</td> \n",
       "        <td id=\"T_b0f09a2c_eb87_11e8_8006_34e6d70a4cbfrow0_col3\" class=\"data row0 col3\" >$4.07</td> \n",
       "    </tr>    <tr> \n",
       "        <th id=\"T_b0f09a2c_eb87_11e8_8006_34e6d70a4cbflevel0_row1\" class=\"row_heading level0 row1\" >Female</th> \n",
       "        <td id=\"T_b0f09a2c_eb87_11e8_8006_34e6d70a4cbfrow1_col0\" class=\"data row1 col0\" >113</td> \n",
       "        <td id=\"T_b0f09a2c_eb87_11e8_8006_34e6d70a4cbfrow1_col1\" class=\"data row1 col1\" >$3.20</td> \n",
       "        <td id=\"T_b0f09a2c_eb87_11e8_8006_34e6d70a4cbfrow1_col2\" class=\"data row1 col2\" >$361.94</td> \n",
       "        <td id=\"T_b0f09a2c_eb87_11e8_8006_34e6d70a4cbfrow1_col3\" class=\"data row1 col3\" >$4.47</td> \n",
       "    </tr>    <tr> \n",
       "        <th id=\"T_b0f09a2c_eb87_11e8_8006_34e6d70a4cbflevel0_row2\" class=\"row_heading level0 row2\" >Other / Non-Disclosed</th> \n",
       "        <td id=\"T_b0f09a2c_eb87_11e8_8006_34e6d70a4cbfrow2_col0\" class=\"data row2 col0\" >1615</td> \n",
       "        <td id=\"T_b0f09a2c_eb87_11e8_8006_34e6d70a4cbfrow2_col1\" class=\"data row2 col1\" >$1614.77</td> \n",
       "        <td id=\"T_b0f09a2c_eb87_11e8_8006_34e6d70a4cbfrow2_col2\" class=\"data row2 col2\" >$50.19</td> \n",
       "        <td id=\"T_b0f09a2c_eb87_11e8_8006_34e6d70a4cbfrow2_col3\" class=\"data row2 col3\" >$4.56</td> \n",
       "    </tr></tbody> \n",
       "</table> "
      ],
      "text/plain": [
       "<pandas.io.formats.style.Styler at 0x29ef64282e8>"
      ]
     },
     "execution_count": 63,
     "metadata": {},
     "output_type": "execute_result"
    }
   ],
   "source": [
    "male_purchase = df[df[\"Gender\"] == \"Male\"][\"Price\"].count()\n",
    "female_purchase = df[df[\"Gender\"] == \"Female\"][\"Price\"].count()\n",
    "other_purchase = Total_Revenue - male_purchase - female_purchase\n",
    "\n",
    "male_purch_avg = df[df[\"Gender\"] == \"Male\"][\"Price\"].mean()\n",
    "female_purch_avg = df[df[\"Gender\"] == \"Female\"][\"Price\"].mean()\n",
    "other_purch_avg = df[df[\"Gender\"] == \"Other / Non-Disclosed\"][\"Price\"].mean()\n",
    "\n",
    "male_price_total = df[df[\"Gender\"] == \"Male\"][\"Price\"].sum()\n",
    "female_price_total = df[df[\"Gender\"] == \"Female\"][\"Price\"].sum()\n",
    "other_price_total = df[df[\"Gender\"] == \"Other / Non-Disclosed\"][\"Price\"].sum()\n",
    "\n",
    "male_per_person = male_price_total/male_count\n",
    "female_per_person = female_price_total/female_count\n",
    "other_per_person = other_price_total/other_count\n",
    "\n",
    "gender_purchase = pd.DataFrame({\"Gender\":[\"Male\", \"Female\", \"Other / Non-Disclosed\"],\n",
    "                               \"Purchase Count\":[male_purchase,female_purchase,other_purchase],\n",
    "                               \"Average Purchase Price\":[male_purch_avg,female_purch_avg,other_purchase],\n",
    "                               \"Total Purchase Value\":[male_price_total,female_price_total,other_price_total],\n",
    "                               \"Avg Total Purchase per Person\":[male_per_person,female_per_person,other_per_person]},\n",
    "                              columns=[\"Gender\",\"Purchase Count\",\"Average Purchase Price\",\"Total Purchase Value\",\"Avg Total Purchase per Person\"])\n",
    "\n",
    "gender_purchase= gender_purchase.set_index(\"Gender\")\n",
    "gender_purchase.style.format({\"Purchase Count\": \"{:.0f}\", \"Average Purchase Price\": \"${:.2f}\", \n",
    "                              \"Total Purchase Value\": \"${:.2f}\", \"Avg Total Purchase per Person\": \"${:.2f}\" })\n",
    "\n"
   ]
  },
  {
   "cell_type": "markdown",
   "metadata": {},
   "source": [
    "# Age Demographics"
   ]
  },
  {
   "cell_type": "markdown",
   "metadata": {},
   "source": [
    "* Establish bins for ages\n",
    "\n",
    "\n",
    "* Categorize the existing players using the age bins. Hint: use pd.cut()\n",
    "\n",
    "\n",
    "* Calculate the numbers and percentages by age group\n",
    "\n",
    "\n",
    "* Create a summary data frame to hold the results\n",
    "\n",
    "\n",
    "* Optional: round the percentage column to two decimal points\n",
    "\n",
    "\n",
    "* Display Age Demographics Table"
   ]
  },
  {
   "cell_type": "code",
   "execution_count": 28,
   "metadata": {},
   "outputs": [
    {
     "data": {
      "text/html": [
       "<style  type=\"text/css\" >\n",
       "</style>  \n",
       "<table id=\"T_111e6530_eae2_11e8_a897_34e6d70a4cbf\" > \n",
       "<thead>    <tr> \n",
       "        <th class=\"blank level0\" ></th> \n",
       "        <th class=\"col_heading level0 col0\" >Total Count</th> \n",
       "        <th class=\"col_heading level0 col1\" >Percentage of Players</th> \n",
       "    </tr>    <tr> \n",
       "        <th class=\"index_name level0\" >Age</th> \n",
       "        <th class=\"blank\" ></th> \n",
       "        <th class=\"blank\" ></th> \n",
       "    </tr></thead> \n",
       "<tbody>    <tr> \n",
       "        <th id=\"T_111e6530_eae2_11e8_a897_34e6d70a4cbflevel0_row0\" class=\"row_heading level0 row0\" ><10</th> \n",
       "        <td id=\"T_111e6530_eae2_11e8_a897_34e6d70a4cbfrow0_col0\" class=\"data row0 col0\" >17</td> \n",
       "        <td id=\"T_111e6530_eae2_11e8_a897_34e6d70a4cbfrow0_col1\" class=\"data row0 col1\" >2.95%</td> \n",
       "    </tr>    <tr> \n",
       "        <th id=\"T_111e6530_eae2_11e8_a897_34e6d70a4cbflevel0_row1\" class=\"row_heading level0 row1\" >10-14</th> \n",
       "        <td id=\"T_111e6530_eae2_11e8_a897_34e6d70a4cbfrow1_col0\" class=\"data row1 col0\" >22</td> \n",
       "        <td id=\"T_111e6530_eae2_11e8_a897_34e6d70a4cbfrow1_col1\" class=\"data row1 col1\" >3.82%</td> \n",
       "    </tr>    <tr> \n",
       "        <th id=\"T_111e6530_eae2_11e8_a897_34e6d70a4cbflevel0_row2\" class=\"row_heading level0 row2\" >15-19</th> \n",
       "        <td id=\"T_111e6530_eae2_11e8_a897_34e6d70a4cbfrow2_col0\" class=\"data row2 col0\" >107</td> \n",
       "        <td id=\"T_111e6530_eae2_11e8_a897_34e6d70a4cbfrow2_col1\" class=\"data row2 col1\" >18.58%</td> \n",
       "    </tr>    <tr> \n",
       "        <th id=\"T_111e6530_eae2_11e8_a897_34e6d70a4cbflevel0_row3\" class=\"row_heading level0 row3\" >20-24</th> \n",
       "        <td id=\"T_111e6530_eae2_11e8_a897_34e6d70a4cbfrow3_col0\" class=\"data row3 col0\" >258</td> \n",
       "        <td id=\"T_111e6530_eae2_11e8_a897_34e6d70a4cbfrow3_col1\" class=\"data row3 col1\" >44.79%</td> \n",
       "    </tr>    <tr> \n",
       "        <th id=\"T_111e6530_eae2_11e8_a897_34e6d70a4cbflevel0_row4\" class=\"row_heading level0 row4\" >25-29</th> \n",
       "        <td id=\"T_111e6530_eae2_11e8_a897_34e6d70a4cbfrow4_col0\" class=\"data row4 col0\" >77</td> \n",
       "        <td id=\"T_111e6530_eae2_11e8_a897_34e6d70a4cbfrow4_col1\" class=\"data row4 col1\" >13.37%</td> \n",
       "    </tr>    <tr> \n",
       "        <th id=\"T_111e6530_eae2_11e8_a897_34e6d70a4cbflevel0_row5\" class=\"row_heading level0 row5\" >30-34</th> \n",
       "        <td id=\"T_111e6530_eae2_11e8_a897_34e6d70a4cbfrow5_col0\" class=\"data row5 col0\" >52</td> \n",
       "        <td id=\"T_111e6530_eae2_11e8_a897_34e6d70a4cbfrow5_col1\" class=\"data row5 col1\" >9.03%</td> \n",
       "    </tr>    <tr> \n",
       "        <th id=\"T_111e6530_eae2_11e8_a897_34e6d70a4cbflevel0_row6\" class=\"row_heading level0 row6\" >35-39</th> \n",
       "        <td id=\"T_111e6530_eae2_11e8_a897_34e6d70a4cbfrow6_col0\" class=\"data row6 col0\" >31</td> \n",
       "        <td id=\"T_111e6530_eae2_11e8_a897_34e6d70a4cbfrow6_col1\" class=\"data row6 col1\" >5.38%</td> \n",
       "    </tr>    <tr> \n",
       "        <th id=\"T_111e6530_eae2_11e8_a897_34e6d70a4cbflevel0_row7\" class=\"row_heading level0 row7\" >40+</th> \n",
       "        <td id=\"T_111e6530_eae2_11e8_a897_34e6d70a4cbfrow7_col0\" class=\"data row7 col0\" >12</td> \n",
       "        <td id=\"T_111e6530_eae2_11e8_a897_34e6d70a4cbfrow7_col1\" class=\"data row7 col1\" >2.08%</td> \n",
       "    </tr></tbody> \n",
       "</table> "
      ],
      "text/plain": [
       "<pandas.io.formats.style.Styler at 0x29ef5428358>"
      ]
     },
     "execution_count": 28,
     "metadata": {},
     "output_type": "execute_result"
    }
   ],
   "source": [
    "lowten = df[df['Age'] < 10]\n",
    "ten = df[(df['Age'] >= 10) & (df['Age'] <= 14)]\n",
    "fifteen = df[(df['Age'] >= 15) & (df['Age'] <= 19)]\n",
    "twenty = df[(df['Age'] >= 20) & (df['Age'] <= 24)]\n",
    "twentyfive = df[(df['Age'] >= 25) & (df['Age'] <= 29)]\n",
    "thirty = df[(df['Age'] >= 30) & (df['Age'] <= 34)]\n",
    "thirtyfive = df[(df['Age'] >= 35) & (df['Age'] <= 39)]\n",
    "fourty = df[df['Age'] >= 40]\n",
    "\n",
    "age_df = pd.DataFrame({\"Age\": [\"<10\",\"10-14\",\"15-19\",\"20-24\",\"25-29\",\"30-34\",\"35-39\",\"40+\"],\n",
    "                      \"Total Count\": [lowten['SN'].nunique(),ten[\"SN\"].nunique(), fifteen['SN'].nunique(),twenty['SN'].nunique(),twentyfive['SN'].nunique(),\n",
    "                          thirty['SN'].nunique(),thirtyfive['SN'].nunique(),fourty['SN'].nunique()],\n",
    "                           \"Percentage of Players\":[(lowten[\"SN\"].nunique()/players)*100,(ten[\"SN\"].nunique()/players)*100, (fifteen['SN'].nunique()/players)*100,\n",
    "                                    (twenty['SN'].nunique()/players)*100,(twentyfive['SN'].nunique()/players)*100,\n",
    "                          (thirty['SN'].nunique()/players)*100,(thirtyfive['SN'].nunique()/players)*100,(fourty['SN'].nunique()/players)*100]})\n",
    "          \n",
    "                   \n",
    "age_df= age_df.set_index('Age')\n",
    "age_df.style.format({\"Percentage of Players\": \"{:.2f}%\"})"
   ]
  },
  {
   "cell_type": "markdown",
   "metadata": {},
   "source": [
    "# Purchasing Analysis (Age)"
   ]
  },
  {
   "cell_type": "markdown",
   "metadata": {},
   "source": [
    "* Bin the purchase_data data frame by age\n",
    "\n",
    "\n",
    "* Run basic calculations to obtain purchase count, avg. purchase price, avg. purchase total per person etc. in the table below\n",
    "\n",
    "\n",
    "* Create a summary data frame to hold the results\n",
    "\n",
    "\n",
    "* Optional: give the displayed data cleaner formatting\n",
    "\n",
    "\n",
    "* Display the summary data frame"
   ]
  },
  {
   "cell_type": "code",
   "execution_count": 34,
   "metadata": {},
   "outputs": [
    {
     "data": {
      "text/html": [
       "<style  type=\"text/css\" >\n",
       "</style>  \n",
       "<table id=\"T_a8b647ec_eb70_11e8_a86f_34e6d70a4cbf\" > \n",
       "<thead>    <tr> \n",
       "        <th class=\"blank level0\" ></th> \n",
       "        <th class=\"col_heading level0 col0\" >Purchase Count</th> \n",
       "        <th class=\"col_heading level0 col1\" >Average Purchase Price</th> \n",
       "        <th class=\"col_heading level0 col2\" >Total Purchase Value</th> \n",
       "        <th class=\"col_heading level0 col3\" >Avg Total Purchase per Person</th> \n",
       "    </tr>    <tr> \n",
       "        <th class=\"index_name level0\" >Age</th> \n",
       "        <th class=\"blank\" ></th> \n",
       "        <th class=\"blank\" ></th> \n",
       "        <th class=\"blank\" ></th> \n",
       "        <th class=\"blank\" ></th> \n",
       "    </tr></thead> \n",
       "<tbody>    <tr> \n",
       "        <th id=\"T_a8b647ec_eb70_11e8_a86f_34e6d70a4cbflevel0_row0\" class=\"row_heading level0 row0\" ><10</th> \n",
       "        <td id=\"T_a8b647ec_eb70_11e8_a86f_34e6d70a4cbfrow0_col0\" class=\"data row0 col0\" >23</td> \n",
       "        <td id=\"T_a8b647ec_eb70_11e8_a86f_34e6d70a4cbfrow0_col1\" class=\"data row0 col1\" >$3.35</td> \n",
       "        <td id=\"T_a8b647ec_eb70_11e8_a86f_34e6d70a4cbfrow0_col2\" class=\"data row0 col2\" >$77.13</td> \n",
       "        <td id=\"T_a8b647ec_eb70_11e8_a86f_34e6d70a4cbfrow0_col3\" class=\"data row0 col3\" >$4.54</td> \n",
       "    </tr>    <tr> \n",
       "        <th id=\"T_a8b647ec_eb70_11e8_a86f_34e6d70a4cbflevel0_row1\" class=\"row_heading level0 row1\" >10-14</th> \n",
       "        <td id=\"T_a8b647ec_eb70_11e8_a86f_34e6d70a4cbfrow1_col0\" class=\"data row1 col0\" >28</td> \n",
       "        <td id=\"T_a8b647ec_eb70_11e8_a86f_34e6d70a4cbfrow1_col1\" class=\"data row1 col1\" >$2.96</td> \n",
       "        <td id=\"T_a8b647ec_eb70_11e8_a86f_34e6d70a4cbfrow1_col2\" class=\"data row1 col2\" >$82.78</td> \n",
       "        <td id=\"T_a8b647ec_eb70_11e8_a86f_34e6d70a4cbfrow1_col3\" class=\"data row1 col3\" >$3.76</td> \n",
       "    </tr>    <tr> \n",
       "        <th id=\"T_a8b647ec_eb70_11e8_a86f_34e6d70a4cbflevel0_row2\" class=\"row_heading level0 row2\" >15-19</th> \n",
       "        <td id=\"T_a8b647ec_eb70_11e8_a86f_34e6d70a4cbfrow2_col0\" class=\"data row2 col0\" >136</td> \n",
       "        <td id=\"T_a8b647ec_eb70_11e8_a86f_34e6d70a4cbfrow2_col1\" class=\"data row2 col1\" >$3.04</td> \n",
       "        <td id=\"T_a8b647ec_eb70_11e8_a86f_34e6d70a4cbfrow2_col2\" class=\"data row2 col2\" >$412.89</td> \n",
       "        <td id=\"T_a8b647ec_eb70_11e8_a86f_34e6d70a4cbfrow2_col3\" class=\"data row2 col3\" >$3.86</td> \n",
       "    </tr>    <tr> \n",
       "        <th id=\"T_a8b647ec_eb70_11e8_a86f_34e6d70a4cbflevel0_row3\" class=\"row_heading level0 row3\" >20-24</th> \n",
       "        <td id=\"T_a8b647ec_eb70_11e8_a86f_34e6d70a4cbfrow3_col0\" class=\"data row3 col0\" >365</td> \n",
       "        <td id=\"T_a8b647ec_eb70_11e8_a86f_34e6d70a4cbfrow3_col1\" class=\"data row3 col1\" >$3.05</td> \n",
       "        <td id=\"T_a8b647ec_eb70_11e8_a86f_34e6d70a4cbfrow3_col2\" class=\"data row3 col2\" >$1114.06</td> \n",
       "        <td id=\"T_a8b647ec_eb70_11e8_a86f_34e6d70a4cbfrow3_col3\" class=\"data row3 col3\" >$4.32</td> \n",
       "    </tr>    <tr> \n",
       "        <th id=\"T_a8b647ec_eb70_11e8_a86f_34e6d70a4cbflevel0_row4\" class=\"row_heading level0 row4\" >25-29</th> \n",
       "        <td id=\"T_a8b647ec_eb70_11e8_a86f_34e6d70a4cbfrow4_col0\" class=\"data row4 col0\" >101</td> \n",
       "        <td id=\"T_a8b647ec_eb70_11e8_a86f_34e6d70a4cbfrow4_col1\" class=\"data row4 col1\" >$2.90</td> \n",
       "        <td id=\"T_a8b647ec_eb70_11e8_a86f_34e6d70a4cbfrow4_col2\" class=\"data row4 col2\" >$293.00</td> \n",
       "        <td id=\"T_a8b647ec_eb70_11e8_a86f_34e6d70a4cbfrow4_col3\" class=\"data row4 col3\" >$3.81</td> \n",
       "    </tr>    <tr> \n",
       "        <th id=\"T_a8b647ec_eb70_11e8_a86f_34e6d70a4cbflevel0_row5\" class=\"row_heading level0 row5\" >30-34</th> \n",
       "        <td id=\"T_a8b647ec_eb70_11e8_a86f_34e6d70a4cbfrow5_col0\" class=\"data row5 col0\" >73</td> \n",
       "        <td id=\"T_a8b647ec_eb70_11e8_a86f_34e6d70a4cbfrow5_col1\" class=\"data row5 col1\" >$2.93</td> \n",
       "        <td id=\"T_a8b647ec_eb70_11e8_a86f_34e6d70a4cbfrow5_col2\" class=\"data row5 col2\" >$214.00</td> \n",
       "        <td id=\"T_a8b647ec_eb70_11e8_a86f_34e6d70a4cbfrow5_col3\" class=\"data row5 col3\" >$4.12</td> \n",
       "    </tr>    <tr> \n",
       "        <th id=\"T_a8b647ec_eb70_11e8_a86f_34e6d70a4cbflevel0_row6\" class=\"row_heading level0 row6\" >35-39</th> \n",
       "        <td id=\"T_a8b647ec_eb70_11e8_a86f_34e6d70a4cbfrow6_col0\" class=\"data row6 col0\" >41</td> \n",
       "        <td id=\"T_a8b647ec_eb70_11e8_a86f_34e6d70a4cbfrow6_col1\" class=\"data row6 col1\" >$3.60</td> \n",
       "        <td id=\"T_a8b647ec_eb70_11e8_a86f_34e6d70a4cbfrow6_col2\" class=\"data row6 col2\" >$147.67</td> \n",
       "        <td id=\"T_a8b647ec_eb70_11e8_a86f_34e6d70a4cbfrow6_col3\" class=\"data row6 col3\" >$4.76</td> \n",
       "    </tr>    <tr> \n",
       "        <th id=\"T_a8b647ec_eb70_11e8_a86f_34e6d70a4cbflevel0_row7\" class=\"row_heading level0 row7\" >40+</th> \n",
       "        <td id=\"T_a8b647ec_eb70_11e8_a86f_34e6d70a4cbfrow7_col0\" class=\"data row7 col0\" >13</td> \n",
       "        <td id=\"T_a8b647ec_eb70_11e8_a86f_34e6d70a4cbfrow7_col1\" class=\"data row7 col1\" >$2.94</td> \n",
       "        <td id=\"T_a8b647ec_eb70_11e8_a86f_34e6d70a4cbfrow7_col2\" class=\"data row7 col2\" >$38.24</td> \n",
       "        <td id=\"T_a8b647ec_eb70_11e8_a86f_34e6d70a4cbfrow7_col3\" class=\"data row7 col3\" >$3.19</td> \n",
       "    </tr></tbody> \n",
       "</table> "
      ],
      "text/plain": [
       "<pandas.io.formats.style.Styler at 0x29ef619bf98>"
      ]
     },
     "execution_count": 34,
     "metadata": {},
     "output_type": "execute_result"
    }
   ],
   "source": [
    "age_purhasing_df=pd.DataFrame({\"Age\": [\"<10\",\"10-14\",\"15-19\",\"20-24\",\"25-29\",\"30-34\",\"35-39\",\"40+\"],\n",
    "                               \"Purchase Count\":[lowten['Price'].count(),ten['Price'].count(), fifteen['Price'].count(),twenty['Price'].count(),twentyfive['Price'].count(),\n",
    "                          thirty['Price'].count(),thirtyfive['Price'].count(),fourty['Price'].count()],\n",
    "                               \"Average Purchase Price\":[lowten['Price'].mean(),ten['Price'].mean(), fifteen['Price'].mean(),twenty['Price'].mean(),twentyfive['Price'].mean(),\n",
    "                          thirty['Price'].mean(),thirtyfive['Price'].mean(),fourty['Price'].mean()],\n",
    "                               \"Total Purchase Value\":[lowten['Price'].sum(),ten['Price'].sum(), fifteen['Price'].sum(),twenty['Price'].sum(),twentyfive['Price'].sum(),\n",
    "                          thirty['Price'].sum(),thirtyfive['Price'].sum(),fourty['Price'].sum()],\n",
    "                               \"Avg Total Purchase per Person\":[lowten['Price'].sum()/lowten['SN'].nunique(),ten['Price'].sum()/ten[\"SN\"].nunique(), \n",
    "                                                                fifteen['Price'].sum()/fifteen['SN'].nunique(),twenty['Price'].sum()/twenty['SN'].nunique(),twentyfive['Price'].sum()/twentyfive['SN'].nunique(),\n",
    "                          thirty['Price'].sum()/thirty['SN'].nunique(),thirtyfive['Price'].sum()/thirtyfive['SN'].nunique(),fourty['Price'].sum()/fourty['SN'].nunique()]},\n",
    "                             columns= [\"Age\", \"Purchase Count\", \"Average Purchase Price\", \"Total Purchase Value\",\"Avg Total Purchase per Person\"])\n",
    "\n",
    "age_purhasing_df=age_purhasing_df.set_index('Age')\n",
    "\n",
    "age_purhasing_df.style.format({\"Average Purchase Price\":\"${:.2f}\",\"Total Purchase Value\":\"${:.2f}\",\"Avg Total Purchase per Person\":\"${:.2f}\"})"
   ]
  },
  {
   "cell_type": "markdown",
   "metadata": {},
   "source": [
    "# Top Spenders"
   ]
  },
  {
   "cell_type": "markdown",
   "metadata": {},
   "source": [
    "* Run basic calculations to obtain the results in the table below\n",
    "\n",
    "\n",
    "* Create a summary data frame to hold the results\n",
    "\n",
    "\n",
    "* Sort the total purchase value column in descending order\n",
    "\n",
    "\n",
    "* Optional: give the displayed data cleaner formatting\n",
    "\n",
    "\n",
    "* Display a preview of the summary data frame\n"
   ]
  },
  {
   "cell_type": "code",
   "execution_count": 36,
   "metadata": {},
   "outputs": [
    {
     "data": {
      "text/html": [
       "<style  type=\"text/css\" >\n",
       "</style>  \n",
       "<table id=\"T_af631fa4_eb79_11e8_bcb0_34e6d70a4cbf\" > \n",
       "<thead>    <tr> \n",
       "        <th class=\"blank level0\" ></th> \n",
       "        <th class=\"col_heading level0 col0\" >Purchase Count</th> \n",
       "        <th class=\"col_heading level0 col1\" >Average Purchase Price</th> \n",
       "        <th class=\"col_heading level0 col2\" >Total Purchase Value</th> \n",
       "    </tr>    <tr> \n",
       "        <th class=\"index_name level0\" >SN</th> \n",
       "        <th class=\"blank\" ></th> \n",
       "        <th class=\"blank\" ></th> \n",
       "        <th class=\"blank\" ></th> \n",
       "    </tr></thead> \n",
       "<tbody>    <tr> \n",
       "        <th id=\"T_af631fa4_eb79_11e8_bcb0_34e6d70a4cbflevel0_row0\" class=\"row_heading level0 row0\" >Lisosia93</th> \n",
       "        <td id=\"T_af631fa4_eb79_11e8_bcb0_34e6d70a4cbfrow0_col0\" class=\"data row0 col0\" >5</td> \n",
       "        <td id=\"T_af631fa4_eb79_11e8_bcb0_34e6d70a4cbfrow0_col1\" class=\"data row0 col1\" >$3.79</td> \n",
       "        <td id=\"T_af631fa4_eb79_11e8_bcb0_34e6d70a4cbfrow0_col2\" class=\"data row0 col2\" >$18.96</td> \n",
       "    </tr>    <tr> \n",
       "        <th id=\"T_af631fa4_eb79_11e8_bcb0_34e6d70a4cbflevel0_row1\" class=\"row_heading level0 row1\" >Idastidru52</th> \n",
       "        <td id=\"T_af631fa4_eb79_11e8_bcb0_34e6d70a4cbfrow1_col0\" class=\"data row1 col0\" >4</td> \n",
       "        <td id=\"T_af631fa4_eb79_11e8_bcb0_34e6d70a4cbfrow1_col1\" class=\"data row1 col1\" >$3.86</td> \n",
       "        <td id=\"T_af631fa4_eb79_11e8_bcb0_34e6d70a4cbfrow1_col2\" class=\"data row1 col2\" >$15.45</td> \n",
       "    </tr>    <tr> \n",
       "        <th id=\"T_af631fa4_eb79_11e8_bcb0_34e6d70a4cbflevel0_row2\" class=\"row_heading level0 row2\" >Chamjask73</th> \n",
       "        <td id=\"T_af631fa4_eb79_11e8_bcb0_34e6d70a4cbfrow2_col0\" class=\"data row2 col0\" >3</td> \n",
       "        <td id=\"T_af631fa4_eb79_11e8_bcb0_34e6d70a4cbfrow2_col1\" class=\"data row2 col1\" >$4.61</td> \n",
       "        <td id=\"T_af631fa4_eb79_11e8_bcb0_34e6d70a4cbfrow2_col2\" class=\"data row2 col2\" >$13.83</td> \n",
       "    </tr>    <tr> \n",
       "        <th id=\"T_af631fa4_eb79_11e8_bcb0_34e6d70a4cbflevel0_row3\" class=\"row_heading level0 row3\" >Iral74</th> \n",
       "        <td id=\"T_af631fa4_eb79_11e8_bcb0_34e6d70a4cbfrow3_col0\" class=\"data row3 col0\" >4</td> \n",
       "        <td id=\"T_af631fa4_eb79_11e8_bcb0_34e6d70a4cbfrow3_col1\" class=\"data row3 col1\" >$3.40</td> \n",
       "        <td id=\"T_af631fa4_eb79_11e8_bcb0_34e6d70a4cbfrow3_col2\" class=\"data row3 col2\" >$13.62</td> \n",
       "    </tr>    <tr> \n",
       "        <th id=\"T_af631fa4_eb79_11e8_bcb0_34e6d70a4cbflevel0_row4\" class=\"row_heading level0 row4\" >Iskadarya95</th> \n",
       "        <td id=\"T_af631fa4_eb79_11e8_bcb0_34e6d70a4cbfrow4_col0\" class=\"data row4 col0\" >3</td> \n",
       "        <td id=\"T_af631fa4_eb79_11e8_bcb0_34e6d70a4cbfrow4_col1\" class=\"data row4 col1\" >$4.37</td> \n",
       "        <td id=\"T_af631fa4_eb79_11e8_bcb0_34e6d70a4cbfrow4_col2\" class=\"data row4 col2\" >$13.10</td> \n",
       "    </tr></tbody> \n",
       "</table> "
      ],
      "text/plain": [
       "<pandas.io.formats.style.Styler at 0x29ef61c0358>"
      ]
     },
     "execution_count": 36,
     "metadata": {},
     "output_type": "execute_result"
    }
   ],
   "source": [
    "sn_total_purchase = df.groupby('SN')['Price'].sum().to_frame()\n",
    "sn_purchase_count = df.groupby('SN')['Price'].count().to_frame()\n",
    "sn_purchase_avg = df.groupby('SN')['Price'].mean().to_frame()\n",
    "\n",
    "sn_total_purchase.columns=[\"Total Purchase Value\"]\n",
    "join_one = sn_total_purchase.join(sn_purchase_count, how=\"left\")\n",
    "join_one.columns=[\"Total Purchase Value\", \"Purchase Count\"]\n",
    "\n",
    "join_two = join_one.join(sn_purchase_avg, how=\"inner\")\n",
    "join_two.columns=[\"Total Purchase Value\", \"Purchase Count\", \"Average Purchase Price\"]\n",
    "\n",
    "top_spenders_df = join_two[[\"Purchase Count\", \"Average Purchase Price\", \"Total Purchase Value\"]]\n",
    "top_spenders_final = top_spenders_df.sort_values('Total Purchase Value', ascending=False).head()\n",
    "top_spenders_final.style.format({\"Average Purchase Price\": \"${:.2f}\", \"Total Purchase Value\": \"${:.2f}\"})"
   ]
  },
  {
   "cell_type": "markdown",
   "metadata": {},
   "source": [
    "# Most Popular Items"
   ]
  },
  {
   "cell_type": "markdown",
   "metadata": {},
   "source": [
    "* Retrieve the Item ID, Item Name, and Item Price columns\n",
    "\n",
    "\n",
    "* Group by Item ID and Item Name. Perform calculations to obtain purchase count, item price, and total purchase value\n",
    "\n",
    "\n",
    "* Create a summary data frame to hold the results\n",
    "\n",
    "\n",
    "* Sort the purchase count column in descending order\n",
    "\n",
    "\n",
    "* Optional: give the displayed data cleaner formatting\n",
    "\n",
    "\n",
    "* Display a preview of the summary data frame\n",
    "\n"
   ]
  },
  {
   "cell_type": "code",
   "execution_count": 69,
   "metadata": {},
   "outputs": [
    {
     "data": {
      "text/html": [
       "<style  type=\"text/css\" >\n",
       "</style>  \n",
       "<table id=\"T_0be4f300_eb8c_11e8_ba37_34e6d70a4cbf\" > \n",
       "<thead>    <tr> \n",
       "        <th class=\"blank\" ></th> \n",
       "        <th class=\"blank level0\" ></th> \n",
       "        <th class=\"col_heading level0 col0\" >Purchase Count</th> \n",
       "        <th class=\"col_heading level0 col1\" >Item Price</th> \n",
       "        <th class=\"col_heading level0 col2\" >Total Purchase Value</th> \n",
       "    </tr>    <tr> \n",
       "        <th class=\"index_name level0\" >Item ID</th> \n",
       "        <th class=\"index_name level1\" >Item Name</th> \n",
       "        <th class=\"blank\" ></th> \n",
       "        <th class=\"blank\" ></th> \n",
       "        <th class=\"blank\" ></th> \n",
       "    </tr></thead> \n",
       "<tbody>    <tr> \n",
       "        <th id=\"T_0be4f300_eb8c_11e8_ba37_34e6d70a4cbflevel0_row0\" class=\"row_heading level0 row0\" >178</th> \n",
       "        <th id=\"T_0be4f300_eb8c_11e8_ba37_34e6d70a4cbflevel1_row0\" class=\"row_heading level1 row0\" >Oathbreaker, Last Hope of the Breaking Storm</th> \n",
       "        <td id=\"T_0be4f300_eb8c_11e8_ba37_34e6d70a4cbfrow0_col0\" class=\"data row0 col0\" >12</td> \n",
       "        <td id=\"T_0be4f300_eb8c_11e8_ba37_34e6d70a4cbfrow0_col1\" class=\"data row0 col1\" >$4.23</td> \n",
       "        <td id=\"T_0be4f300_eb8c_11e8_ba37_34e6d70a4cbfrow0_col2\" class=\"data row0 col2\" >$50.76</td> \n",
       "    </tr>    <tr> \n",
       "        <th id=\"T_0be4f300_eb8c_11e8_ba37_34e6d70a4cbflevel0_row1\" class=\"row_heading level0 row1\" >145</th> \n",
       "        <th id=\"T_0be4f300_eb8c_11e8_ba37_34e6d70a4cbflevel1_row1\" class=\"row_heading level1 row1\" >Fiery Glass Crusader</th> \n",
       "        <td id=\"T_0be4f300_eb8c_11e8_ba37_34e6d70a4cbfrow1_col0\" class=\"data row1 col0\" >9</td> \n",
       "        <td id=\"T_0be4f300_eb8c_11e8_ba37_34e6d70a4cbfrow1_col1\" class=\"data row1 col1\" >$4.58</td> \n",
       "        <td id=\"T_0be4f300_eb8c_11e8_ba37_34e6d70a4cbfrow1_col2\" class=\"data row1 col2\" >$41.22</td> \n",
       "    </tr>    <tr> \n",
       "        <th id=\"T_0be4f300_eb8c_11e8_ba37_34e6d70a4cbflevel0_row2\" class=\"row_heading level0 row2\" >108</th> \n",
       "        <th id=\"T_0be4f300_eb8c_11e8_ba37_34e6d70a4cbflevel1_row2\" class=\"row_heading level1 row2\" >Extraction, Quickblade Of Trembling Hands</th> \n",
       "        <td id=\"T_0be4f300_eb8c_11e8_ba37_34e6d70a4cbfrow2_col0\" class=\"data row2 col0\" >9</td> \n",
       "        <td id=\"T_0be4f300_eb8c_11e8_ba37_34e6d70a4cbfrow2_col1\" class=\"data row2 col1\" >$3.53</td> \n",
       "        <td id=\"T_0be4f300_eb8c_11e8_ba37_34e6d70a4cbfrow2_col2\" class=\"data row2 col2\" >$31.77</td> \n",
       "    </tr>    <tr> \n",
       "        <th id=\"T_0be4f300_eb8c_11e8_ba37_34e6d70a4cbflevel0_row3\" class=\"row_heading level0 row3\" >82</th> \n",
       "        <th id=\"T_0be4f300_eb8c_11e8_ba37_34e6d70a4cbflevel1_row3\" class=\"row_heading level1 row3\" >Nirvana</th> \n",
       "        <td id=\"T_0be4f300_eb8c_11e8_ba37_34e6d70a4cbfrow3_col0\" class=\"data row3 col0\" >9</td> \n",
       "        <td id=\"T_0be4f300_eb8c_11e8_ba37_34e6d70a4cbfrow3_col1\" class=\"data row3 col1\" >$4.90</td> \n",
       "        <td id=\"T_0be4f300_eb8c_11e8_ba37_34e6d70a4cbfrow3_col2\" class=\"data row3 col2\" >$44.10</td> \n",
       "    </tr>    <tr> \n",
       "        <th id=\"T_0be4f300_eb8c_11e8_ba37_34e6d70a4cbflevel0_row4\" class=\"row_heading level0 row4\" >19</th> \n",
       "        <th id=\"T_0be4f300_eb8c_11e8_ba37_34e6d70a4cbflevel1_row4\" class=\"row_heading level1 row4\" >Pursuit, Cudgel of Necromancy</th> \n",
       "        <td id=\"T_0be4f300_eb8c_11e8_ba37_34e6d70a4cbfrow4_col0\" class=\"data row4 col0\" >8</td> \n",
       "        <td id=\"T_0be4f300_eb8c_11e8_ba37_34e6d70a4cbfrow4_col1\" class=\"data row4 col1\" >$1.02</td> \n",
       "        <td id=\"T_0be4f300_eb8c_11e8_ba37_34e6d70a4cbfrow4_col2\" class=\"data row4 col2\" >$8.16</td> \n",
       "    </tr></tbody> \n",
       "</table> "
      ],
      "text/plain": [
       "<pandas.io.formats.style.Styler at 0x29ef6429860>"
      ]
     },
     "execution_count": 69,
     "metadata": {},
     "output_type": "execute_result"
    }
   ],
   "source": [
    "df_popular = df.drop(['Age', 'Gender', 'SN', 'Purchase ID'], axis = 1)\n",
    "df_popular_total = df_popular.groupby(['Item ID', 'Item Name'])\n",
    "\n",
    "df_popular_total_sum = df_popular_total.sum()\n",
    "df_popular_total_sum = df_popular_total_sum.rename(columns={'Price':'Total Purchase Value'})\n",
    "\n",
    "df_popular_counts = df_popular.groupby(['Item ID','Item Name']).count()\n",
    "df_popular_counts = df_popular_counts.rename(columns={'Price':'Purchase Count'})\n",
    "\n",
    "df_popular_price = df_popular_total[['Price']].mean()\n",
    "df_popular_price = df_popular_price.rename(columns={'Price':'Item Price'})\n",
    "\n",
    "popular_data = pd.concat([df_popular_counts, df_popular_price, df_popular_total_sum], axis=1)\n",
    "popular_data = popular_data.sort_values('Purchase Count', ascending=False).head(5)\n",
    "popular_data.style.format({'Item Price':'${:.2f}','Total Purchase Value':'${:.2f}'})\n"
   ]
  },
  {
   "cell_type": "markdown",
   "metadata": {},
   "source": [
    "## Most Profitable Items"
   ]
  },
  {
   "cell_type": "markdown",
   "metadata": {},
   "source": [
    "* Sort the above table by total purchase value in descending order\n",
    "\n",
    "\n",
    "* Optional: give the displayed data cleaner formatting\n",
    "\n",
    "\n",
    "* Display a preview of the data frame"
   ]
  },
  {
   "cell_type": "code",
   "execution_count": 71,
   "metadata": {},
   "outputs": [
    {
     "data": {
      "text/html": [
       "<style  type=\"text/css\" >\n",
       "</style>  \n",
       "<table id=\"T_18fecfee_eb8c_11e8_9d87_34e6d70a4cbf\" > \n",
       "<thead>    <tr> \n",
       "        <th class=\"blank\" ></th> \n",
       "        <th class=\"blank level0\" ></th> \n",
       "        <th class=\"col_heading level0 col0\" >Purchase Count</th> \n",
       "        <th class=\"col_heading level0 col1\" >Item Price</th> \n",
       "        <th class=\"col_heading level0 col2\" >Total Purchase Value</th> \n",
       "    </tr>    <tr> \n",
       "        <th class=\"index_name level0\" >Item ID</th> \n",
       "        <th class=\"index_name level1\" >Item Name</th> \n",
       "        <th class=\"blank\" ></th> \n",
       "        <th class=\"blank\" ></th> \n",
       "        <th class=\"blank\" ></th> \n",
       "    </tr></thead> \n",
       "<tbody>    <tr> \n",
       "        <th id=\"T_18fecfee_eb8c_11e8_9d87_34e6d70a4cbflevel0_row0\" class=\"row_heading level0 row0\" >178</th> \n",
       "        <th id=\"T_18fecfee_eb8c_11e8_9d87_34e6d70a4cbflevel1_row0\" class=\"row_heading level1 row0\" >Oathbreaker, Last Hope of the Breaking Storm</th> \n",
       "        <td id=\"T_18fecfee_eb8c_11e8_9d87_34e6d70a4cbfrow0_col0\" class=\"data row0 col0\" >12</td> \n",
       "        <td id=\"T_18fecfee_eb8c_11e8_9d87_34e6d70a4cbfrow0_col1\" class=\"data row0 col1\" >$4.23</td> \n",
       "        <td id=\"T_18fecfee_eb8c_11e8_9d87_34e6d70a4cbfrow0_col2\" class=\"data row0 col2\" >$50.76</td> \n",
       "    </tr>    <tr> \n",
       "        <th id=\"T_18fecfee_eb8c_11e8_9d87_34e6d70a4cbflevel0_row1\" class=\"row_heading level0 row1\" >82</th> \n",
       "        <th id=\"T_18fecfee_eb8c_11e8_9d87_34e6d70a4cbflevel1_row1\" class=\"row_heading level1 row1\" >Nirvana</th> \n",
       "        <td id=\"T_18fecfee_eb8c_11e8_9d87_34e6d70a4cbfrow1_col0\" class=\"data row1 col0\" >9</td> \n",
       "        <td id=\"T_18fecfee_eb8c_11e8_9d87_34e6d70a4cbfrow1_col1\" class=\"data row1 col1\" >$4.90</td> \n",
       "        <td id=\"T_18fecfee_eb8c_11e8_9d87_34e6d70a4cbfrow1_col2\" class=\"data row1 col2\" >$44.10</td> \n",
       "    </tr>    <tr> \n",
       "        <th id=\"T_18fecfee_eb8c_11e8_9d87_34e6d70a4cbflevel0_row2\" class=\"row_heading level0 row2\" >145</th> \n",
       "        <th id=\"T_18fecfee_eb8c_11e8_9d87_34e6d70a4cbflevel1_row2\" class=\"row_heading level1 row2\" >Fiery Glass Crusader</th> \n",
       "        <td id=\"T_18fecfee_eb8c_11e8_9d87_34e6d70a4cbfrow2_col0\" class=\"data row2 col0\" >9</td> \n",
       "        <td id=\"T_18fecfee_eb8c_11e8_9d87_34e6d70a4cbfrow2_col1\" class=\"data row2 col1\" >$4.58</td> \n",
       "        <td id=\"T_18fecfee_eb8c_11e8_9d87_34e6d70a4cbfrow2_col2\" class=\"data row2 col2\" >$41.22</td> \n",
       "    </tr>    <tr> \n",
       "        <th id=\"T_18fecfee_eb8c_11e8_9d87_34e6d70a4cbflevel0_row3\" class=\"row_heading level0 row3\" >108</th> \n",
       "        <th id=\"T_18fecfee_eb8c_11e8_9d87_34e6d70a4cbflevel1_row3\" class=\"row_heading level1 row3\" >Extraction, Quickblade Of Trembling Hands</th> \n",
       "        <td id=\"T_18fecfee_eb8c_11e8_9d87_34e6d70a4cbfrow3_col0\" class=\"data row3 col0\" >9</td> \n",
       "        <td id=\"T_18fecfee_eb8c_11e8_9d87_34e6d70a4cbfrow3_col1\" class=\"data row3 col1\" >$3.53</td> \n",
       "        <td id=\"T_18fecfee_eb8c_11e8_9d87_34e6d70a4cbfrow3_col2\" class=\"data row3 col2\" >$31.77</td> \n",
       "    </tr>    <tr> \n",
       "        <th id=\"T_18fecfee_eb8c_11e8_9d87_34e6d70a4cbflevel0_row4\" class=\"row_heading level0 row4\" >19</th> \n",
       "        <th id=\"T_18fecfee_eb8c_11e8_9d87_34e6d70a4cbflevel1_row4\" class=\"row_heading level1 row4\" >Pursuit, Cudgel of Necromancy</th> \n",
       "        <td id=\"T_18fecfee_eb8c_11e8_9d87_34e6d70a4cbfrow4_col0\" class=\"data row4 col0\" >8</td> \n",
       "        <td id=\"T_18fecfee_eb8c_11e8_9d87_34e6d70a4cbfrow4_col1\" class=\"data row4 col1\" >$1.02</td> \n",
       "        <td id=\"T_18fecfee_eb8c_11e8_9d87_34e6d70a4cbfrow4_col2\" class=\"data row4 col2\" >$8.16</td> \n",
       "    </tr></tbody> \n",
       "</table> "
      ],
      "text/plain": [
       "<pandas.io.formats.style.Styler at 0x29ef63bc9e8>"
      ]
     },
     "execution_count": 71,
     "metadata": {},
     "output_type": "execute_result"
    }
   ],
   "source": [
    "popular_data = popular_data.sort_values('Total Purchase Value', ascending=False).head(5)\n",
    "popular_data.style.format({'Item Price':'${:.2f}','Total Purchase Value':'${:.2f}'})"
   ]
  },
  {
   "cell_type": "code",
   "execution_count": null,
   "metadata": {},
   "outputs": [],
   "source": []
  }
 ],
 "metadata": {
  "kernelspec": {
   "display_name": "pythonData",
   "language": "python",
   "name": "pythondata"
  },
  "language_info": {
   "codemirror_mode": {
    "name": "ipython",
    "version": 3
   },
   "file_extension": ".py",
   "mimetype": "text/x-python",
   "name": "python",
   "nbconvert_exporter": "python",
   "pygments_lexer": "ipython3",
   "version": "3.7.1"
  }
 },
 "nbformat": 4,
 "nbformat_minor": 2
}
